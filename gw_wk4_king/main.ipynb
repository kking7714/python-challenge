{
 "cells": [
  {
   "cell_type": "code",
   "execution_count": null,
   "metadata": {
    "collapsed": true
   },
   "outputs": [],
   "source": [
    "## Three Observed Trends from Pymoli Data Analysis\n",
    "#\n",
    "# Observation 1: Males dominate the gender use of the games purchased\n",
    "# Observation 2: Of the age groups recorded in this data the '20-24' group is the highest user base\n",
    "# Observation 3: Despite female spenders being a smaller demographic they spend more on average\n",
    "#"
   ]
  },
  {
   "cell_type": "code",
   "execution_count": 53,
   "metadata": {
    "collapsed": true
   },
   "outputs": [],
   "source": [
    "import pandas as pd\n",
    "import numpy as np\n"
   ]
  },
  {
   "cell_type": "code",
   "execution_count": 54,
   "metadata": {
    "collapsed": true
   },
   "outputs": [],
   "source": [
    "#read json file\n",
    "data = 'purchase_data.json'\n",
    "path = 'Resources/purchase_data.json'\n",
    "heroes_df = pd.read_json(path)"
   ]
  },
  {
   "cell_type": "code",
   "execution_count": 55,
   "metadata": {
    "collapsed": true
   },
   "outputs": [],
   "source": [
    "#Determine number of players\n",
    "player_count = heroes_df[\"Age\"].count()\n"
   ]
  },
  {
   "cell_type": "code",
   "execution_count": 56,
   "metadata": {
    "collapsed": true
   },
   "outputs": [],
   "source": [
    "#Determine unique items from 'Item Name'\n",
    "unique_items = heroes_df[\"Item Name\"].value_counts()\n",
    "#Count numberof unique items\n",
    "nmbr_unique_items = unique_items.count()"
   ]
  },
  {
   "cell_type": "code",
   "execution_count": 57,
   "metadata": {
    "collapsed": true
   },
   "outputs": [],
   "source": [
    "#Determine number of purchases by counting 'Price' column\n",
    "number_of_purchases = heroes_df[\"Price\"].count()\n",
    "\n",
    "#Determine total revenue with sum of 'Price' column\n",
    "total_revenue = heroes_df[\"Price\"].sum()\n",
    "\n",
    "#Average purchase price \n",
    "avg_purchase_price = total_revenue/number_of_purchases"
   ]
  },
  {
   "cell_type": "code",
   "execution_count": 58,
   "metadata": {
    "collapsed": true
   },
   "outputs": [],
   "source": [
    "#create purchase_analysis dataframe and assign values to columns\n",
    "purchase_analysis = pd.DataFrame({\"Number of Unique Items\":[nmbr_unique_items],\n",
    "                                  \"Average Price\":[avg_purchase_price],\n",
    "                                  \"Number of Purchases\":[number_of_purchases],\n",
    "                                  \"Total Revenue\":[total_revenue]})\n",
    "#set column order\n",
    "purchase_analysis = purchase_analysis[[\"Number of Unique Items\",\n",
    "                                      \"Average Price\",\n",
    "                                      \"Number of Purchases\",\n",
    "                                      \"Total Revenue\"]]"
   ]
  },
  {
   "cell_type": "code",
   "execution_count": 59,
   "metadata": {},
   "outputs": [
    {
     "data": {
      "text/html": [
       "<div>\n",
       "<style>\n",
       "    .dataframe thead tr:only-child th {\n",
       "        text-align: right;\n",
       "    }\n",
       "\n",
       "    .dataframe thead th {\n",
       "        text-align: left;\n",
       "    }\n",
       "\n",
       "    .dataframe tbody tr th {\n",
       "        vertical-align: top;\n",
       "    }\n",
       "</style>\n",
       "<table border=\"1\" class=\"dataframe\">\n",
       "  <thead>\n",
       "    <tr style=\"text-align: right;\">\n",
       "      <th></th>\n",
       "      <th>Number of Unique Items</th>\n",
       "      <th>Average Price</th>\n",
       "      <th>Number of Purchases</th>\n",
       "      <th>Total Revenue</th>\n",
       "    </tr>\n",
       "  </thead>\n",
       "  <tbody>\n",
       "    <tr>\n",
       "      <th>0</th>\n",
       "      <td>63</td>\n",
       "      <td>$2.92</td>\n",
       "      <td>78</td>\n",
       "      <td>$228.10</td>\n",
       "    </tr>\n",
       "  </tbody>\n",
       "</table>\n",
       "</div>"
      ],
      "text/plain": [
       "   Number of Unique Items Average Price  Number of Purchases Total Revenue\n",
       "0                      63         $2.92                   78       $228.10"
      ]
     },
     "execution_count": 59,
     "metadata": {},
     "output_type": "execute_result"
    }
   ],
   "source": [
    "#Format Average Price and Total Revenue with '$'\n",
    "purchase_analysis[\"Average Price\"] = purchase_analysis[\"Average Price\"].map(\"${0:,.2f}\".format)\n",
    "purchase_analysis[\"Total Revenue\"] = purchase_analysis[\"Total Revenue\"].map(\"${0:,.2f}\".format)\n",
    "purchase_analysis"
   ]
  },
  {
   "cell_type": "code",
   "execution_count": 60,
   "metadata": {
    "collapsed": true
   },
   "outputs": [],
   "source": [
    "#Count of \"Gender\" values: 'Male', 'Female', 'Other / Non-Disclosed'\n",
    "males = heroes_df[\"Gender\"].value_counts()[\"Male\"]\n",
    "males_prcnt = (males/player_count) * 100\n",
    "\n",
    "\n",
    "females = heroes_df[\"Gender\"].value_counts()[\"Female\"]\n",
    "females_prcnt = (females/player_count) * 100\n",
    "\n",
    "non_disc = heroes_df[\"Gender\"].value_counts()[\"Other / Non-Disclosed\"]\n",
    "non_disc_prcnt = (non_disc/player_count) * 100\n",
    "\n"
   ]
  },
  {
   "cell_type": "code",
   "execution_count": 61,
   "metadata": {},
   "outputs": [
    {
     "data": {
      "text/html": [
       "<div>\n",
       "<style>\n",
       "    .dataframe thead tr:only-child th {\n",
       "        text-align: right;\n",
       "    }\n",
       "\n",
       "    .dataframe thead th {\n",
       "        text-align: left;\n",
       "    }\n",
       "\n",
       "    .dataframe tbody tr th {\n",
       "        vertical-align: top;\n",
       "    }\n",
       "</style>\n",
       "<table border=\"1\" class=\"dataframe\">\n",
       "  <thead>\n",
       "    <tr style=\"text-align: right;\">\n",
       "      <th></th>\n",
       "      <th>Percentage of Players</th>\n",
       "      <th>Total Count</th>\n",
       "    </tr>\n",
       "  </thead>\n",
       "  <tbody>\n",
       "    <tr>\n",
       "      <th>Male</th>\n",
       "      <td>82.05%</td>\n",
       "      <td>64</td>\n",
       "    </tr>\n",
       "    <tr>\n",
       "      <th>Female</th>\n",
       "      <td>16.67%</td>\n",
       "      <td>13</td>\n",
       "    </tr>\n",
       "    <tr>\n",
       "      <th>Other / Non-Disclosed</th>\n",
       "      <td>1.28%</td>\n",
       "      <td>1</td>\n",
       "    </tr>\n",
       "  </tbody>\n",
       "</table>\n",
       "</div>"
      ],
      "text/plain": [
       "                      Percentage of Players  Total Count\n",
       "Male                                 82.05%           64\n",
       "Female                               16.67%           13\n",
       "Other / Non-Disclosed                 1.28%            1"
      ]
     },
     "execution_count": 61,
     "metadata": {},
     "output_type": "execute_result"
    }
   ],
   "source": [
    "#dataframe for gender demographics\n",
    "gender_data = [{\"Percentage of Players\": males_prcnt,\"Total Count\": males},\n",
    "               {\"Percentage of Players\": females_prcnt,\"Total Count\": females},\n",
    "              {\"Percentage of Players\": non_disc_prcnt,\"Total Count\": non_disc}]\n",
    "\n",
    "gender_df = pd.DataFrame(gender_data, index=[\"Male\",\"Female\",\"Other / Non-Disclosed\"])\n",
    "gender_df['Percentage of Players'] = gender_df['Percentage of Players'].map(\"{0:,.2f}%\".format)\n",
    "gender_df"
   ]
  },
  {
   "cell_type": "code",
   "execution_count": 62,
   "metadata": {
    "collapsed": true
   },
   "outputs": [],
   "source": [
    "# male purchase data\n",
    "m_purch = heroes_df.loc[heroes_df[\"Gender\"]==\"Male\"]\n",
    "m_purch_total = m_purch[\"Price\"].sum()\n",
    "m_purch_avg_n = m_purch_total / males \n",
    "m_purch_avg = m_purch[\"Price\"].mean()\n",
    "\n",
    "\n",
    "# female purchase data\n",
    "f_purch = heroes_df.loc[heroes_df[\"Gender\"]==\"Female\"]\n",
    "f_purch_total = f_purch[\"Price\"].sum()\n",
    "f_purch_avg_n = f_purch_total / females \n",
    "f_purch_avg = f_purch[\"Price\"].mean()\n",
    "\n",
    "#non-disclosed purchase data\n",
    "o_purch = heroes_df.loc[heroes_df[\"Gender\"]==\"Other / Non-Disclosed\"]\n",
    "o_purch_total = o_purch[\"Price\"].sum()\n",
    "o_purch_avg_n = o_purch_total / non_disc \n",
    "o_purch_avg = o_purch[\"Price\"].mean()\n",
    "\n",
    "\n"
   ]
  },
  {
   "cell_type": "code",
   "execution_count": 63,
   "metadata": {},
   "outputs": [
    {
     "data": {
      "text/html": [
       "<div>\n",
       "<style>\n",
       "    .dataframe thead tr:only-child th {\n",
       "        text-align: right;\n",
       "    }\n",
       "\n",
       "    .dataframe thead th {\n",
       "        text-align: left;\n",
       "    }\n",
       "\n",
       "    .dataframe tbody tr th {\n",
       "        vertical-align: top;\n",
       "    }\n",
       "</style>\n",
       "<table border=\"1\" class=\"dataframe\">\n",
       "  <thead>\n",
       "    <tr style=\"text-align: right;\">\n",
       "      <th></th>\n",
       "      <th>Purchase Count</th>\n",
       "      <th>Average Purchase Price</th>\n",
       "      <th>Total Purchase Value</th>\n",
       "      <th>Normalized Totals</th>\n",
       "    </tr>\n",
       "  </thead>\n",
       "  <tbody>\n",
       "    <tr>\n",
       "      <th>Male</th>\n",
       "      <td>64</td>\n",
       "      <td>$2.88</td>\n",
       "      <td>$184.60</td>\n",
       "      <td>$2.88</td>\n",
       "    </tr>\n",
       "    <tr>\n",
       "      <th>Female</th>\n",
       "      <td>13</td>\n",
       "      <td>$3.18</td>\n",
       "      <td>$41.38</td>\n",
       "      <td>$3.18</td>\n",
       "    </tr>\n",
       "    <tr>\n",
       "      <th>Other / Non-Disclosed</th>\n",
       "      <td>1</td>\n",
       "      <td>$2.12</td>\n",
       "      <td>$2.12</td>\n",
       "      <td>$2.12</td>\n",
       "    </tr>\n",
       "  </tbody>\n",
       "</table>\n",
       "</div>"
      ],
      "text/plain": [
       "                       Purchase Count Average Purchase Price  \\\n",
       "Male                               64                  $2.88   \n",
       "Female                             13                  $3.18   \n",
       "Other / Non-Disclosed               1                  $2.12   \n",
       "\n",
       "                      Total Purchase Value Normalized Totals  \n",
       "Male                               $184.60             $2.88  \n",
       "Female                              $41.38             $3.18  \n",
       "Other / Non-Disclosed                $2.12             $2.12  "
      ]
     },
     "execution_count": 63,
     "metadata": {},
     "output_type": "execute_result"
    }
   ],
   "source": [
    "gender_purch_analysis = [{\"Purchase Count\": males,\"Average Purchase Price\": m_purch_avg_n,\n",
    "                                       \"Total Purchase Value\": m_purch_total, \"Normalized Totals\": m_purch_avg},\n",
    "                                       {\"Purchase Count\": females,\"Average Purchase Price\": f_purch_avg_n,\n",
    "                                       \"Total Purchase Value\": f_purch_total, \"Normalized Totals\": f_purch_avg},\n",
    "                                       {\"Purchase Count\": non_disc,\"Average Purchase Price\": o_purch_avg_n,\n",
    "                                       \"Total Purchase Value\": o_purch_total, \"Normalized Totals\": o_purch_avg}]\n",
    "\n",
    "# set indexes\n",
    "gender_purch_analysis = pd.DataFrame(gender_purch_analysis, index=[\"Male\",\"Female\",\"Other / Non-Disclosed\"])  \n",
    "\n",
    "#format monetary columns\n",
    "gender_purch_analysis['Average Purchase Price'] = gender_purch_analysis['Average Purchase Price'].map(\"${0:,.2f}\".format)\n",
    "gender_purch_analysis['Total Purchase Value'] = gender_purch_analysis['Total Purchase Value'].map(\"${0:,.2f}\".format)\n",
    "gender_purch_analysis['Normalized Totals'] = gender_purch_analysis['Normalized Totals'].map(\"${0:,.2f}\".format)\n",
    "\n",
    "#reorder columns\n",
    "gender_purch_analysis = gender_purch_analysis[[\"Purchase Count\",\"Average Purchase Price\",\"Total Purchase Value\",\"Normalized Totals\"]]\n",
    "\n",
    "gender_purch_analysis"
   ]
  },
  {
   "cell_type": "code",
   "execution_count": 64,
   "metadata": {},
   "outputs": [
    {
     "data": {
      "text/html": [
       "<div>\n",
       "<style>\n",
       "    .dataframe thead tr:only-child th {\n",
       "        text-align: right;\n",
       "    }\n",
       "\n",
       "    .dataframe thead th {\n",
       "        text-align: left;\n",
       "    }\n",
       "\n",
       "    .dataframe tbody tr th {\n",
       "        vertical-align: top;\n",
       "    }\n",
       "</style>\n",
       "<table border=\"1\" class=\"dataframe\">\n",
       "  <thead>\n",
       "    <tr style=\"text-align: right;\">\n",
       "      <th></th>\n",
       "      <th>Purchase Count</th>\n",
       "      <th>Average Purchase Price</th>\n",
       "      <th>Total Purchase Value</th>\n",
       "      <th>Normalized Totals</th>\n",
       "    </tr>\n",
       "  </thead>\n",
       "  <tbody>\n",
       "    <tr>\n",
       "      <th>10-14</th>\n",
       "      <td>3</td>\n",
       "      <td>$2.99</td>\n",
       "      <td>$8.96</td>\n",
       "      <td>$2.99</td>\n",
       "    </tr>\n",
       "    <tr>\n",
       "      <th>15-19</th>\n",
       "      <td>11</td>\n",
       "      <td>$2.76</td>\n",
       "      <td>$30.41</td>\n",
       "      <td>$2.76</td>\n",
       "    </tr>\n",
       "    <tr>\n",
       "      <th>20-24</th>\n",
       "      <td>36</td>\n",
       "      <td>$3.02</td>\n",
       "      <td>$108.89</td>\n",
       "      <td>$3.02</td>\n",
       "    </tr>\n",
       "    <tr>\n",
       "      <th>25-29</th>\n",
       "      <td>9</td>\n",
       "      <td>$2.90</td>\n",
       "      <td>$26.11</td>\n",
       "      <td>$2.90</td>\n",
       "    </tr>\n",
       "    <tr>\n",
       "      <th>30-34</th>\n",
       "      <td>7</td>\n",
       "      <td>$1.98</td>\n",
       "      <td>$13.89</td>\n",
       "      <td>$1.98</td>\n",
       "    </tr>\n",
       "    <tr>\n",
       "      <th>35-39</th>\n",
       "      <td>6</td>\n",
       "      <td>$3.56</td>\n",
       "      <td>$21.37</td>\n",
       "      <td>$3.56</td>\n",
       "    </tr>\n",
       "    <tr>\n",
       "      <th>40+</th>\n",
       "      <td>1</td>\n",
       "      <td>$4.65</td>\n",
       "      <td>$4.65</td>\n",
       "      <td>$4.65</td>\n",
       "    </tr>\n",
       "    <tr>\n",
       "      <th>&lt;10</th>\n",
       "      <td>5</td>\n",
       "      <td>$2.76</td>\n",
       "      <td>$13.82</td>\n",
       "      <td>$2.76</td>\n",
       "    </tr>\n",
       "  </tbody>\n",
       "</table>\n",
       "</div>"
      ],
      "text/plain": [
       "       Purchase Count Average Purchase Price Total Purchase Value  \\\n",
       "10-14               3                  $2.99                $8.96   \n",
       "15-19              11                  $2.76               $30.41   \n",
       "20-24              36                  $3.02              $108.89   \n",
       "25-29               9                  $2.90               $26.11   \n",
       "30-34               7                  $1.98               $13.89   \n",
       "35-39               6                  $3.56               $21.37   \n",
       "40+                 1                  $4.65                $4.65   \n",
       "<10                 5                  $2.76               $13.82   \n",
       "\n",
       "      Normalized Totals  \n",
       "10-14             $2.99  \n",
       "15-19             $2.76  \n",
       "20-24             $3.02  \n",
       "25-29             $2.90  \n",
       "30-34             $1.98  \n",
       "35-39             $3.56  \n",
       "40+               $4.65  \n",
       "<10               $2.76  "
      ]
     },
     "execution_count": 64,
     "metadata": {},
     "output_type": "execute_result"
    }
   ],
   "source": [
    "# assign age group bins\n",
    "bins = [0,9,14,19,24,29,34,39,150]\n",
    "# bin names\n",
    "group_ages = [\"<10\",\"10-14\",\"15-19\",\"20-24\",\"25-29\",\"30-34\",\"35-39\",\"40+\"]\n",
    "\n",
    "# set groups by age\n",
    "heroes_df[\"Age Group\"] = pd.cut(heroes_df[\"Age\"],bins,labels=group_ages)\n",
    "group_age = heroes_df.groupby([\"Age Group\"])\n",
    "\n",
    "# count per age group\n",
    "age_group_count = heroes_df[\"Age Group\"].value_counts()\n",
    "# percentage of groups\n",
    "age_group_prcnt = round((age_group_count / player_count) * 100)\n",
    "\n",
    "# calc avg price by group and format for $\n",
    "age_group_avg_price = round(group_age[\"Price\"].mean(),2).map(\"${:.2f}\".format)\n",
    "\n",
    "# total purchase values by group\n",
    "age_group_total = group_age[\"Price\"].sum()\n",
    "# normalized?\n",
    "age_group_n = round(age_group_total/age_group_count, 2)\n",
    "\n",
    "# format $ columns\n",
    "age_group_total = age_group_total.map(\"${:.2f}\".format)\n",
    "age_group_n = age_group_n.map(\"${:.2f}\".format)\n",
    "\n",
    "age_demo_df = pd.DataFrame({\"Purchase Count\": age_group_count, \"Average Purchase Price\": age_group_avg_price,\n",
    "                           \"Total Purchase Value\": age_group_total, \"Normalized Totals\": age_group_n})\n",
    "\n",
    "# reorder columns\n",
    "age_demo_df = age_demo_df[[\"Purchase Count\", \"Average Purchase Price\", \"Total Purchase Value\", \"Normalized Totals\"]]\n",
    "age_demo_df\n",
    "\n"
   ]
  },
  {
   "cell_type": "code",
   "execution_count": 70,
   "metadata": {},
   "outputs": [],
   "source": [
    "\n",
    "screen_ns = heroes_df.groupby([\"SN\"])['Price'].sum()\n",
    "screen_count = heroes_df.groupby([\"SN\"])['Price'].count()\n",
    "sn_group = heroes_df.groupby([\"SN\"])\n",
    "avg_sn = screen_ns / screen_count\n",
    "avg_sn = avg_sn.map(\"${:.2f}\".format)\n",
    "screen_ns = screen_ns.map(\"${:.2f}\".format)\n",
    "\n",
    "top_spenders = pd.DataFrame({\"Purchase Count\": screen_count,\"Average Purchase Price\":avg_sn, \"Total Purchase Value\": screen_ns})\n",
    "\n",
    "top_spenders = top_spenders.sort_values(\"Total Purchase Value\", ascending=False)\n",
    "top_spenders = top_spenders[[\"Purchase Count\",\"Average Purchase Price\", \"Total Purchase Value\"]]\n",
    "\n",
    "top_spenders.reset_index(inplace=True)\n",
    "\n",
    "\n",
    "\n"
   ]
  },
  {
   "cell_type": "code",
   "execution_count": 67,
   "metadata": {
    "collapsed": true
   },
   "outputs": [],
   "source": [
    "\n",
    "top_ids_sort = heroes_df.groupby(\"Item ID\")\n",
    "\n",
    "top_id_tot_purch = top_ids_sort[\"Price\"].sum()\n",
    "\n",
    "\n",
    "id_count = heroes_df[\"Item ID\"].value_counts()\n",
    "item_ids = heroes_df[\"Item ID\"]\n",
    "item_names = heroes_df[\"Item Name\"]\n",
    "item_price = (top_id_tot_purch/id_count)\n",
    "top_id_tot_purch = top_id_tot_purch.map(\"${:.2f}\".format)\n",
    "item_price = item_price.map(\"${:.2f}\".format)"
   ]
  },
  {
   "cell_type": "code",
   "execution_count": 68,
   "metadata": {},
   "outputs": [
    {
     "data": {
      "text/html": [
       "<div>\n",
       "<style>\n",
       "    .dataframe thead tr:only-child th {\n",
       "        text-align: right;\n",
       "    }\n",
       "\n",
       "    .dataframe thead th {\n",
       "        text-align: left;\n",
       "    }\n",
       "\n",
       "    .dataframe tbody tr th {\n",
       "        vertical-align: top;\n",
       "    }\n",
       "</style>\n",
       "<table border=\"1\" class=\"dataframe\">\n",
       "  <thead>\n",
       "    <tr style=\"text-align: right;\">\n",
       "      <th></th>\n",
       "      <th>Purchase Count</th>\n",
       "      <th>Item Price</th>\n",
       "      <th>Total Purchase Value</th>\n",
       "    </tr>\n",
       "    <tr>\n",
       "      <th>Item ID</th>\n",
       "      <th></th>\n",
       "      <th></th>\n",
       "      <th></th>\n",
       "    </tr>\n",
       "  </thead>\n",
       "  <tbody>\n",
       "    <tr>\n",
       "      <th>94</th>\n",
       "      <td>3</td>\n",
       "      <td>$3.64</td>\n",
       "      <td>$10.92</td>\n",
       "    </tr>\n",
       "    <tr>\n",
       "      <th>90</th>\n",
       "      <td>2</td>\n",
       "      <td>$4.12</td>\n",
       "      <td>$8.24</td>\n",
       "    </tr>\n",
       "    <tr>\n",
       "      <th>111</th>\n",
       "      <td>2</td>\n",
       "      <td>$1.79</td>\n",
       "      <td>$3.58</td>\n",
       "    </tr>\n",
       "    <tr>\n",
       "      <th>64</th>\n",
       "      <td>2</td>\n",
       "      <td>$2.42</td>\n",
       "      <td>$4.84</td>\n",
       "    </tr>\n",
       "    <tr>\n",
       "      <th>154</th>\n",
       "      <td>2</td>\n",
       "      <td>$4.11</td>\n",
       "      <td>$8.22</td>\n",
       "    </tr>\n",
       "  </tbody>\n",
       "</table>\n",
       "</div>"
      ],
      "text/plain": [
       "         Purchase Count Item Price Total Purchase Value\n",
       "Item ID                                                \n",
       "94                    3      $3.64               $10.92\n",
       "90                    2      $4.12                $8.24\n",
       "111                   2      $1.79                $3.58\n",
       "64                    2      $2.42                $4.84\n",
       "154                   2      $4.11                $8.22"
      ]
     },
     "execution_count": 68,
     "metadata": {},
     "output_type": "execute_result"
    }
   ],
   "source": [
    "# Most Popular Items\n",
    "top_items_df = pd.DataFrame({\"Purchase Count\": id_count, \"Item Price\": item_price, \"Total Purchase Value\": top_id_tot_purch})\n",
    "top_items_df = top_items_df[[\"Purchase Count\", \"Item Price\",\"Total Purchase Value\"]]\n",
    "top_items_df = top_items_df.sort_values(\"Purchase Count\", ascending=False)\n",
    "top_items_df.head()"
   ]
  },
  {
   "cell_type": "code",
   "execution_count": 69,
   "metadata": {},
   "outputs": [
    {
     "data": {
      "text/html": [
       "<div>\n",
       "<style>\n",
       "    .dataframe thead tr:only-child th {\n",
       "        text-align: right;\n",
       "    }\n",
       "\n",
       "    .dataframe thead th {\n",
       "        text-align: left;\n",
       "    }\n",
       "\n",
       "    .dataframe tbody tr th {\n",
       "        vertical-align: top;\n",
       "    }\n",
       "</style>\n",
       "<table border=\"1\" class=\"dataframe\">\n",
       "  <thead>\n",
       "    <tr style=\"text-align: right;\">\n",
       "      <th></th>\n",
       "      <th>Purchase Count</th>\n",
       "      <th>Item Price</th>\n",
       "      <th>Total Purchase Value</th>\n",
       "    </tr>\n",
       "    <tr>\n",
       "      <th>Item ID</th>\n",
       "      <th></th>\n",
       "      <th></th>\n",
       "      <th></th>\n",
       "    </tr>\n",
       "  </thead>\n",
       "  <tbody>\n",
       "    <tr>\n",
       "      <th>117</th>\n",
       "      <td>2</td>\n",
       "      <td>$4.71</td>\n",
       "      <td>$9.42</td>\n",
       "    </tr>\n",
       "    <tr>\n",
       "      <th>93</th>\n",
       "      <td>2</td>\n",
       "      <td>$4.49</td>\n",
       "      <td>$8.98</td>\n",
       "    </tr>\n",
       "    <tr>\n",
       "      <th>90</th>\n",
       "      <td>2</td>\n",
       "      <td>$4.12</td>\n",
       "      <td>$8.24</td>\n",
       "    </tr>\n",
       "    <tr>\n",
       "      <th>154</th>\n",
       "      <td>2</td>\n",
       "      <td>$4.11</td>\n",
       "      <td>$8.22</td>\n",
       "    </tr>\n",
       "    <tr>\n",
       "      <th>180</th>\n",
       "      <td>2</td>\n",
       "      <td>$2.77</td>\n",
       "      <td>$5.54</td>\n",
       "    </tr>\n",
       "  </tbody>\n",
       "</table>\n",
       "</div>"
      ],
      "text/plain": [
       "         Purchase Count Item Price Total Purchase Value\n",
       "Item ID                                                \n",
       "117                   2      $4.71                $9.42\n",
       "93                    2      $4.49                $8.98\n",
       "90                    2      $4.12                $8.24\n",
       "154                   2      $4.11                $8.22\n",
       "180                   2      $2.77                $5.54"
      ]
     },
     "execution_count": 69,
     "metadata": {},
     "output_type": "execute_result"
    }
   ],
   "source": [
    "# Most Profitable Items\n",
    "\n",
    "top_items_df = pd.DataFrame({\"Purchase Count\": id_count, \"Item Price\": item_price, \"Total Purchase Value\": top_id_tot_purch})\n",
    "top_items_df = top_items_df[[\"Purchase Count\", \"Item Price\",\"Total Purchase Value\"]]\n",
    "top_items_df = top_items_df.sort_values(\"Total Purchase Value\", ascending=False)\n",
    "top_items_df.head()"
   ]
  }
 ],
 "metadata": {
  "kernelspec": {
   "display_name": "Python [conda env:PythonData]",
   "language": "python",
   "name": "conda-env-PythonData-py"
  },
  "language_info": {
   "codemirror_mode": {
    "name": "ipython",
    "version": 3
   },
   "file_extension": ".py",
   "mimetype": "text/x-python",
   "name": "python",
   "nbconvert_exporter": "python",
   "pygments_lexer": "ipython3",
   "version": "3.6.1"
  }
 },
 "nbformat": 4,
 "nbformat_minor": 2
}
